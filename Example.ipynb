{
 "cells": [
  {
   "cell_type": "code",
   "execution_count": null,
   "metadata": {},
   "outputs": [],
   "source": []
  },
  {
   "cell_type": "code",
   "execution_count": null,
   "metadata": {},
   "outputs": [],
   "source": []
  },
  {
   "cell_type": "markdown",
   "metadata": {},
   "source": [
    "##### Multiple Exponpow pdfs $p_S(s)$ and multiple click through probabilities $p_C$"
   ]
  },
  {
   "cell_type": "code",
   "execution_count": 139,
   "metadata": {},
   "outputs": [],
   "source": [
    "import os\n",
    "import numpy as np\n",
    "import pandas as pd\n",
    "from bid.generate_data import generate_datasets\n",
    "from bid.get_pdfs import get_ps_pw_from_data, get_ps_pw_analytical\n",
    "from bid.optimization import optimize\n",
    "\n",
    "from main import get_summary"
   ]
  },
  {
   "cell_type": "code",
   "execution_count": 129,
   "metadata": {},
   "outputs": [
    {
     "name": "stdout",
     "output_type": "stream",
     "text": [
      "\n",
      "\n",
      "Check if N*pc >> Nc\n",
      "\n",
      "N*pc:      \t 18500\n",
      "Nc:        \t 100\n",
      "N*pc >> Nc \t True\n",
      "\n",
      "\n",
      "\n"
     ]
    },
    {
     "name": "stderr",
     "output_type": "stream",
     "text": [
      "/Users/A.IVA/opt/anaconda3/envs/everything/lib/python3.7/site-packages/scipy/optimize/_hessian_update_strategy.py:187: UserWarning: delta_grad == 0.0. Check if the approximated function is linear. If the function is linear better results can be obtained by defining the Hessian as zero instead of using quasi-Newton approximations.\n",
      "  'approximations.', UserWarning)\n",
      "/Users/A.IVA/opt/anaconda3/envs/everything/lib/python3.7/site-packages/scipy/optimize/_trustregion_constr/projections.py:182: UserWarning: Singular Jacobian matrix. Using SVD decomposition to perform the factorizations.\n",
      "  warn('Singular Jacobian matrix. Using SVD decomposition to ' +\n"
     ]
    }
   ],
   "source": [
    "distribution_type = 'exponpow'\n",
    "\n",
    "I = 3\n",
    "J = 2\n",
    "Nc = 100\n",
    "N_scale = 100000\n",
    "\n",
    "np.random.seed(11)\n",
    "N = np.random.randint(low=1, high=10, size=(I * J,)) * N_scale\n",
    "\n",
    "# user click through probabilities\n",
    "#\n",
    "pc = np.arange(1, J + 1, 1) * 0.005\n",
    "pc = np.repeat(pc, I)\n",
    "\n",
    "print('\\n\\nCheck if N*pc >> Nc\\n')\n",
    "print('N*pc:      \\t {0}'.format(int((N * pc).sum())))\n",
    "print('Nc:        \\t {0}'.format(Nc))\n",
    "print('N*pc >> Nc \\t {0}'.format((N * pc).sum() >= 10 * Nc))\n",
    "print('\\n\\n')\n",
    "\n",
    "# auction winning bid distributions\n",
    "#\n",
    "\n",
    "if distribution_type == 'exponpow':\n",
    "    bs = np.arange(0, I)*2 + 2\n",
    "    dist_params_list = [dict(b=b) for b in bs]\n",
    "else:\n",
    "    distribution_type = 'expon'\n",
    "    alphas = np.arange(1, I + 1) * 0.1\n",
    "    dist_params_list = [dict(scale=1. / a) for a in alphas]\n",
    "\n",
    "sizes = [sum([N[j * I + i] for j in range(J)]) for i in range(I)]\n",
    "\n",
    "# initial value\n",
    "#\n",
    "x0 = np.ones(shape=(I * J,)) * 0.001\n",
    "\n",
    "all_dfs = dict()\n",
    "\n",
    "for case in ['fct analytical', 'fct inferred from data']:\n",
    "    if case == 'fct inferred from data':\n",
    "        datasets = generate_datasets(distribution_type, dist_params_list, sizes)\n",
    "        ps, _, pw = get_ps_pw_from_data(datasets, J)\n",
    "    else:\n",
    "        ps, _, pw = get_ps_pw_analytical(J, distribution_type, dist_params_list)\n",
    "\n",
    "    res = optimize(x0, pw, N, pc, Nc)\n",
    "    all_dfs[case] = get_summary(res, np.tile(dist_params_list, J), pc, N)\n"
   ]
  },
  {
   "cell_type": "code",
   "execution_count": 130,
   "metadata": {
    "scrolled": true
   },
   "outputs": [
    {
     "data": {
      "text/html": [
       "<div>\n",
       "<style scoped>\n",
       "    .dataframe tbody tr th:only-of-type {\n",
       "        vertical-align: middle;\n",
       "    }\n",
       "\n",
       "    .dataframe tbody tr th {\n",
       "        vertical-align: top;\n",
       "    }\n",
       "\n",
       "    .dataframe thead th {\n",
       "        text-align: right;\n",
       "    }\n",
       "</style>\n",
       "<table border=\"1\" class=\"dataframe\">\n",
       "  <thead>\n",
       "    <tr style=\"text-align: right;\">\n",
       "      <th></th>\n",
       "      <th></th>\n",
       "      <th></th>\n",
       "      <th>x (fct analytical)</th>\n",
       "      <th>x (fct inferred from data)</th>\n",
       "      <th>dx</th>\n",
       "      <th>rel err</th>\n",
       "    </tr>\n",
       "    <tr>\n",
       "      <th>dist_params</th>\n",
       "      <th>N_group</th>\n",
       "      <th>pc</th>\n",
       "      <th></th>\n",
       "      <th></th>\n",
       "      <th></th>\n",
       "      <th></th>\n",
       "    </tr>\n",
       "  </thead>\n",
       "  <tbody>\n",
       "    <tr>\n",
       "      <th>{'b': 2}</th>\n",
       "      <th>100000</th>\n",
       "      <th>0.005</th>\n",
       "      <td>0.095343</td>\n",
       "      <td>0.094953</td>\n",
       "      <td>0.000389</td>\n",
       "      <td>0.004085</td>\n",
       "    </tr>\n",
       "    <tr>\n",
       "      <th>{'b': 4}</th>\n",
       "      <th>200000</th>\n",
       "      <th>0.005</th>\n",
       "      <td>0.114412</td>\n",
       "      <td>0.117126</td>\n",
       "      <td>-0.002714</td>\n",
       "      <td>0.023718</td>\n",
       "    </tr>\n",
       "    <tr>\n",
       "      <th>{'b': 6}</th>\n",
       "      <th>800000</th>\n",
       "      <th>0.005</th>\n",
       "      <td>0.122585</td>\n",
       "      <td>0.120706</td>\n",
       "      <td>0.001879</td>\n",
       "      <td>0.015330</td>\n",
       "    </tr>\n",
       "    <tr>\n",
       "      <th>{'b': 2}</th>\n",
       "      <th>200000</th>\n",
       "      <th>0.010</th>\n",
       "      <td>0.190659</td>\n",
       "      <td>0.190809</td>\n",
       "      <td>-0.000150</td>\n",
       "      <td>0.000788</td>\n",
       "    </tr>\n",
       "    <tr>\n",
       "      <th>{'b': 4}</th>\n",
       "      <th>800000</th>\n",
       "      <th>0.010</th>\n",
       "      <td>0.228825</td>\n",
       "      <td>0.227044</td>\n",
       "      <td>0.001781</td>\n",
       "      <td>0.007782</td>\n",
       "    </tr>\n",
       "    <tr>\n",
       "      <th>{'b': 6}</th>\n",
       "      <th>300000</th>\n",
       "      <th>0.010</th>\n",
       "      <td>0.245169</td>\n",
       "      <td>0.242125</td>\n",
       "      <td>0.003045</td>\n",
       "      <td>0.012418</td>\n",
       "    </tr>\n",
       "  </tbody>\n",
       "</table>\n",
       "</div>"
      ],
      "text/plain": [
       "                           x (fct analytical)  x (fct inferred from data)  \\\n",
       "dist_params N_group pc                                                      \n",
       "{'b': 2}    100000  0.005            0.095343                    0.094953   \n",
       "{'b': 4}    200000  0.005            0.114412                    0.117126   \n",
       "{'b': 6}    800000  0.005            0.122585                    0.120706   \n",
       "{'b': 2}    200000  0.010            0.190659                    0.190809   \n",
       "{'b': 4}    800000  0.010            0.228825                    0.227044   \n",
       "{'b': 6}    300000  0.010            0.245169                    0.242125   \n",
       "\n",
       "                                 dx   rel err  \n",
       "dist_params N_group pc                         \n",
       "{'b': 2}    100000  0.005  0.000389  0.004085  \n",
       "{'b': 4}    200000  0.005 -0.002714  0.023718  \n",
       "{'b': 6}    800000  0.005  0.001879  0.015330  \n",
       "{'b': 2}    200000  0.010 -0.000150  0.000788  \n",
       "{'b': 4}    800000  0.010  0.001781  0.007782  \n",
       "{'b': 6}    300000  0.010  0.003045  0.012418  "
      ]
     },
     "execution_count": 130,
     "metadata": {},
     "output_type": "execute_result"
    }
   ],
   "source": [
    "import copy\n",
    "\n",
    "df1 = all_dfs['fct analytical'].set_index(['dist_params', 'N_group', 'pc']).copy(deep=True)\n",
    "df2 = all_dfs['fct inferred from data'].set_index(['dist_params', 'N_group', 'pc']).copy(deep=True)\n",
    "\n",
    "df1.columns = df1.columns.map(lambda x: x + ' (fct analytical)')\n",
    "df2.columns = df2.columns.map(lambda x: x + ' (fct inferred from data)')\n",
    "\n",
    "df = df1.join(df2)\n",
    "df['dx'] = df['x (fct analytical)'] - df['x (fct inferred from data)']\n",
    "df['rel err'] = abs(df['dx'])/df['x (fct analytical)']\n",
    "df"
   ]
  },
  {
   "cell_type": "code",
   "execution_count": 131,
   "metadata": {},
   "outputs": [],
   "source": [
    "df = df.reset_index()"
   ]
  },
  {
   "cell_type": "markdown",
   "metadata": {},
   "source": [
    "##### Plot results"
   ]
  },
  {
   "cell_type": "code",
   "execution_count": 134,
   "metadata": {},
   "outputs": [
    {
     "data": {
      "image/png": "[encoded data removed]",
      "text/plain": [
       "<Figure size 648x648 with 3 Axes>"
      ]
     },
     "metadata": {
      "needs_background": "light"
     },
     "output_type": "display_data"
    }
   ],
   "source": [
    "import matplotlib.pyplot as plt\n",
    "from scipy.stats import exponpow\n",
    "\n",
    "x = np.linspace(0.01, 1.3, 100)\n",
    "\n",
    "fig, (ax1, ax2, ax3) = plt.subplots(3, 1, sharex=True, figsize=(9,9))\n",
    "\n",
    "for b, ax in zip(bs, (ax1, ax2, ax3)):\n",
    "\n",
    "    ax.plot(x, exponpow.pdf(x, b=b), color='black', linestyle='solid', lw=2, alpha=0.7, label=f'winning bid distribution for b={b}')\n",
    "    \n",
    "    for pc, color in zip(df['pc'].unique(), ['orange', 'red']):\n",
    "        tmp = \"{'b': \" + str(b) + \"}\"\n",
    "        bid = df.loc[(df['dist_params']==tmp) & (df['pc']==pc), 'x (fct analytical)'].values[0]\n",
    "        ax.axvline(x=bid, color=color, linestyle='--', label=f'bid (pc={pc})')\n",
    "        ax.set_ylim(bottom=0, top=3.4)\n",
    "    \n",
    "    ax.legend(loc=\"upper right\")\n",
    "\n",
    "ax3.set_xlabel('bid price (x)')\n",
    "plt.show()"
   ]
  },
  {
   "cell_type": "code",
   "execution_count": 140,
   "metadata": {},
   "outputs": [],
   "source": [
    "save_path = os.path.join('pdf', 'fig', 'biding_strategy.png')\n",
    "fig.savefig(save_path, transparent=True, pad_inches=0, bbox_inches='tight')"
   ]
  },
  {
   "cell_type": "markdown",
   "metadata": {},
   "source": [
    "#####  Single Exponential pdf $p_S(s)$ and single click through probability $p_C$"
   ]
  },
  {
   "cell_type": "code",
   "execution_count": 99,
   "metadata": {},
   "outputs": [
    {
     "name": "stderr",
     "output_type": "stream",
     "text": [
      "/Users/A.IVA/opt/anaconda3/envs/everything/lib/python3.7/site-packages/scipy/optimize/_hessian_update_strategy.py:187: UserWarning: delta_grad == 0.0. Check if the approximated function is linear. If the function is linear better results can be obtained by defining the Hessian as zero instead of using quasi-Newton approximations.\n",
      "  'approximations.', UserWarning)\n"
     ]
    }
   ],
   "source": [
    "distribution_type = 'expon'\n",
    "Nc_list = [50*i for i in range(1, 12, 1)]\n",
    "dfs = []\n",
    "\n",
    "for Nc in Nc_list:\n",
    "\n",
    "    I = 1\n",
    "    J = 1\n",
    "    N_scale = int(1e6)\n",
    "\n",
    "    np.random.seed(11)\n",
    "    N = np.random.randint(low=1, high=10, size=(I * J,)) * N_scale\n",
    "\n",
    "    # user click through probabilities\n",
    "    #\n",
    "    pc = np.arange(1, J + 1, 1) * 0.005\n",
    "    pc = np.repeat(pc, I)\n",
    "\n",
    "    # auction winning bid distributions\n",
    "    #\n",
    "    distribution_type = 'expon'\n",
    "    alphas = np.arange(1, I + 1)\n",
    "    dist_params_list = [dict(scale=1. / a) for a in alphas]\n",
    "    \n",
    "    sizes = [sum([N[j * I + i] for j in range(J)]) for i in range(I)]\n",
    "\n",
    "    # initial value\n",
    "    #\n",
    "    x0 = np.ones(shape=(I * J,)) * 0.001\n",
    "\n",
    "    all_dfs = dict()\n",
    "\n",
    "    # for case in ['fct analytical', 'fct inferred from data']:\n",
    "    for case in ['fct analytical']:\n",
    "        if case == 'fct inferred from data':\n",
    "            datasets = generate_datasets(distribution_type, dist_params_list, sizes)\n",
    "            ps, _, pw = get_ps_pw_from_data(datasets, J)\n",
    "        else:\n",
    "            ps, _, pw = get_ps_pw_analytical(J, distribution_type, dist_params_list)\n",
    "\n",
    "        res = optimize(x0, pw, N, pc, Nc)\n",
    "        all_dfs[case] = get_summary(res, np.tile(dist_params_list, J), pc, N)\n",
    "        all_dfs[case]['Nc'] = Nc\n",
    "    \n",
    "    dfs.append(all_dfs[case])"
   ]
  },
  {
   "cell_type": "code",
   "execution_count": 113,
   "metadata": {},
   "outputs": [
    {
     "data": {
      "text/html": [
       "<div>\n",
       "<style scoped>\n",
       "    .dataframe tbody tr th:only-of-type {\n",
       "        vertical-align: middle;\n",
       "    }\n",
       "\n",
       "    .dataframe tbody tr th {\n",
       "        vertical-align: top;\n",
       "    }\n",
       "\n",
       "    .dataframe thead th {\n",
       "        text-align: right;\n",
       "    }\n",
       "</style>\n",
       "<table border=\"1\" class=\"dataframe\">\n",
       "  <thead>\n",
       "    <tr style=\"text-align: right;\">\n",
       "      <th></th>\n",
       "      <th></th>\n",
       "      <th></th>\n",
       "      <th>Nc</th>\n",
       "      <th>x</th>\n",
       "      <th>x (analytical)</th>\n",
       "      <th>dx</th>\n",
       "    </tr>\n",
       "    <tr>\n",
       "      <th>dist_params</th>\n",
       "      <th>N_group</th>\n",
       "      <th>pc</th>\n",
       "      <th></th>\n",
       "      <th></th>\n",
       "      <th></th>\n",
       "      <th></th>\n",
       "    </tr>\n",
       "  </thead>\n",
       "  <tbody>\n",
       "    <tr>\n",
       "      <th rowspan=\"11\" valign=\"top\">{'scale': 1.0}</th>\n",
       "      <th rowspan=\"11\" valign=\"top\">1000000</th>\n",
       "      <th>0.005</th>\n",
       "      <td>50</td>\n",
       "      <td>0.010050</td>\n",
       "      <td>0.010050</td>\n",
       "      <td>0.0</td>\n",
       "    </tr>\n",
       "    <tr>\n",
       "      <th>0.005</th>\n",
       "      <td>100</td>\n",
       "      <td>0.020203</td>\n",
       "      <td>0.020203</td>\n",
       "      <td>0.0</td>\n",
       "    </tr>\n",
       "    <tr>\n",
       "      <th>0.005</th>\n",
       "      <td>150</td>\n",
       "      <td>0.030459</td>\n",
       "      <td>0.030459</td>\n",
       "      <td>0.0</td>\n",
       "    </tr>\n",
       "    <tr>\n",
       "      <th>0.005</th>\n",
       "      <td>200</td>\n",
       "      <td>0.040822</td>\n",
       "      <td>0.040822</td>\n",
       "      <td>0.0</td>\n",
       "    </tr>\n",
       "    <tr>\n",
       "      <th>0.005</th>\n",
       "      <td>250</td>\n",
       "      <td>0.051293</td>\n",
       "      <td>0.051293</td>\n",
       "      <td>0.0</td>\n",
       "    </tr>\n",
       "    <tr>\n",
       "      <th>0.005</th>\n",
       "      <td>300</td>\n",
       "      <td>0.061875</td>\n",
       "      <td>0.061875</td>\n",
       "      <td>0.0</td>\n",
       "    </tr>\n",
       "    <tr>\n",
       "      <th>0.005</th>\n",
       "      <td>350</td>\n",
       "      <td>0.072571</td>\n",
       "      <td>0.072571</td>\n",
       "      <td>0.0</td>\n",
       "    </tr>\n",
       "    <tr>\n",
       "      <th>0.005</th>\n",
       "      <td>400</td>\n",
       "      <td>0.083382</td>\n",
       "      <td>0.083382</td>\n",
       "      <td>0.0</td>\n",
       "    </tr>\n",
       "    <tr>\n",
       "      <th>0.005</th>\n",
       "      <td>450</td>\n",
       "      <td>0.094311</td>\n",
       "      <td>0.094311</td>\n",
       "      <td>0.0</td>\n",
       "    </tr>\n",
       "    <tr>\n",
       "      <th>0.005</th>\n",
       "      <td>500</td>\n",
       "      <td>0.105361</td>\n",
       "      <td>0.105361</td>\n",
       "      <td>0.0</td>\n",
       "    </tr>\n",
       "    <tr>\n",
       "      <th>0.005</th>\n",
       "      <td>550</td>\n",
       "      <td>0.116534</td>\n",
       "      <td>0.116534</td>\n",
       "      <td>0.0</td>\n",
       "    </tr>\n",
       "  </tbody>\n",
       "</table>\n",
       "</div>"
      ],
      "text/plain": [
       "                               Nc         x  x (analytical)   dx\n",
       "dist_params    N_group pc                                       \n",
       "{'scale': 1.0} 1000000 0.005   50  0.010050        0.010050  0.0\n",
       "                       0.005  100  0.020203        0.020203  0.0\n",
       "                       0.005  150  0.030459        0.030459  0.0\n",
       "                       0.005  200  0.040822        0.040822  0.0\n",
       "                       0.005  250  0.051293        0.051293  0.0\n",
       "                       0.005  300  0.061875        0.061875  0.0\n",
       "                       0.005  350  0.072571        0.072571  0.0\n",
       "                       0.005  400  0.083382        0.083382  0.0\n",
       "                       0.005  450  0.094311        0.094311  0.0\n",
       "                       0.005  500  0.105361        0.105361  0.0\n",
       "                       0.005  550  0.116534        0.116534  0.0"
      ]
     },
     "execution_count": 113,
     "metadata": {},
     "output_type": "execute_result"
    }
   ],
   "source": [
    "df = pd.concat(dfs)\n",
    "df['x (analytical)'] = np.log(df['N_group'] * df['pc'] / (df['N_group'] * df['pc'] - df['Nc']))\n",
    "df = df[['dist_params', 'N_group', 'pc', 'Nc', 'x', 'x (analytical)']]\n",
    "df['dx'] = np.round(abs(df['x'] - df['x (analytical)']), 15)\n",
    "df.set_index(['dist_params', 'N_group', 'pc'])"
   ]
  },
  {
   "cell_type": "code",
   "execution_count": 127,
   "metadata": {},
   "outputs": [
    {
     "data": {
      "image/png": "[encoded data removed]",
      "text/plain": [
       "<Figure size 360x360 with 1 Axes>"
      ]
     },
     "metadata": {
      "needs_background": "light"
     },
     "output_type": "display_data"
    }
   ],
   "source": [
    "fig, ax = plt.subplots(1, 1, sharex=True, figsize=(5,5))\n",
    "\n",
    "Ncs = df['Nc'].values\n",
    "xs = df['x'].values\n",
    "\n",
    "ax.plot(Ncs, xs, 'x', alpha=1, label=f'bid price')\n",
    "ax.set_xlabel('expected number of clicks (Nc)')\n",
    "ax.legend(loc=\"upper left\")\n",
    "\n",
    "plt.show()"
   ]
  },
  {
   "cell_type": "code",
   "execution_count": null,
   "metadata": {},
   "outputs": [],
   "source": []
  },
  {
   "cell_type": "code",
   "execution_count": null,
   "metadata": {},
   "outputs": [],
   "source": []
  },
  {
   "cell_type": "code",
   "execution_count": null,
   "metadata": {},
   "outputs": [],
   "source": []
  },
  {
   "cell_type": "code",
   "execution_count": null,
   "metadata": {},
   "outputs": [],
   "source": []
  }
 ],
 "metadata": {
  "kernelspec": {
   "display_name": "everything",
   "language": "python",
   "name": "everything"
  },
  "language_info": {
   "codemirror_mode": {
    "name": "ipython",
    "version": 3
   },
   "file_extension": ".py",
   "mimetype": "text/x-python",
   "name": "python",
   "nbconvert_exporter": "python",
   "pygments_lexer": "ipython3",
   "version": "3.7.7"
  }
 },
 "nbformat": 4,
 "nbformat_minor": 4
}
